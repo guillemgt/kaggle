{
 "cells": [
  {
   "attachments": {},
   "cell_type": "markdown",
   "id": "bc18abd2",
   "metadata": {},
   "source": [
    "# IMDB sentiment analysis\n",
    "\n",
    "Let us start by including all the modules we will need"
   ]
  },
  {
   "cell_type": "code",
   "execution_count": 1,
   "id": "da217a3a",
   "metadata": {},
   "outputs": [],
   "source": [
    "import numpy as np\n",
    "import torch\n",
    "from torch import nn\n",
    "import torch.nn.functional as F\n",
    "import pandas as pd\n",
    "from sklearn.model_selection import train_test_split\n",
    "import matplotlib.pyplot as plt\n",
    "import re"
   ]
  },
  {
   "cell_type": "markdown",
   "id": "180882c6",
   "metadata": {},
   "source": [
    "# String preprocessing functions\n",
    "\n",
    "Here are the functions that we will use to preprocess the movie review strings and tokenize them.\n",
    "Some of the modifications we make during the preprocessing will be motivated by the format of the reviews in the dataset."
   ]
  },
  {
   "cell_type": "code",
   "execution_count": 2,
   "id": "63d0f5e9",
   "metadata": {},
   "outputs": [],
   "source": [
    "def preprocess_string(string):\n",
    "    # Remove HTML tags\n",
    "    string = re.sub(\"<[^>]*>\", \" \", string)\n",
    "    # Remove all non-alphanumerical characters and replace them with whitespace\n",
    "    string = re.sub(\"[^A-Za-z0-9 ]+\", \" \", string)\n",
    "    # Replace multiple contiguous whitespaces by a single one\n",
    "    string = re.sub(\"\\s+\", \" \", string)\n",
    "\n",
    "    # Trim the string to remove trailing whitespaces if there are any\n",
    "    string = string.strip()\n",
    "\n",
    "    # Convert string to lowercase\n",
    "    string = string.lower()\n",
    "\n",
    "    return string\n",
    "\n",
    "def tokenize(string):\n",
    "    # To tokenize a string, we first preprocess it and then convert each word into a token\n",
    "    string = preprocess_string(string)\n",
    "    return string.split(\" \")\n",
    "\n",
    "def get_token_index(token, vocabulary, add_if_unknown=False):\n",
    "    if vocabulary.get(token) is None:\n",
    "        if add_if_unknown:\n",
    "            vocabulary[token] = len(vocabulary)\n",
    "        else:\n",
    "            return vocabulary[\"[UNKNOWN]\"]\n",
    "\n",
    "    return vocabulary[token]\n",
    "\n",
    "def get_token_indices(list_of_tokens, vocabulary, add_if_unknown=False):\n",
    "    return [get_token_index(token, vocabulary, add_if_unknown=add_if_unknown) for token in list_of_tokens]"
   ]
  },
  {
   "cell_type": "markdown",
   "id": "f12b1669",
   "metadata": {},
   "source": [
    "# Loading the dataset and data exploration\n",
    "\n",
    "Next, let us load the dataset from the CSV file using `pandas`"
   ]
  },
  {
   "cell_type": "code",
   "execution_count": 3,
   "id": "06b19cf2",
   "metadata": {},
   "outputs": [],
   "source": [
    "full_dataset = pd.read_csv(\"imdb.csv\")"
   ]
  },
  {
   "cell_type": "markdown",
   "id": "9aaa3f58",
   "metadata": {},
   "source": [
    "Let us get a quick sneak-peak of the format of the data and how many samples it consists of"
   ]
  },
  {
   "cell_type": "code",
   "execution_count": 4,
   "id": "0439ef64",
   "metadata": {},
   "outputs": [
    {
     "data": {
      "text/html": [
       "<div>\n",
       "<style scoped>\n",
       "    .dataframe tbody tr th:only-of-type {\n",
       "        vertical-align: middle;\n",
       "    }\n",
       "\n",
       "    .dataframe tbody tr th {\n",
       "        vertical-align: top;\n",
       "    }\n",
       "\n",
       "    .dataframe thead th {\n",
       "        text-align: right;\n",
       "    }\n",
       "</style>\n",
       "<table border=\"1\" class=\"dataframe\">\n",
       "  <thead>\n",
       "    <tr style=\"text-align: right;\">\n",
       "      <th></th>\n",
       "      <th>review</th>\n",
       "      <th>sentiment</th>\n",
       "    </tr>\n",
       "  </thead>\n",
       "  <tbody>\n",
       "    <tr>\n",
       "      <th>0</th>\n",
       "      <td>One of the other reviewers has mentioned that ...</td>\n",
       "      <td>positive</td>\n",
       "    </tr>\n",
       "    <tr>\n",
       "      <th>1</th>\n",
       "      <td>A wonderful little production. &lt;br /&gt;&lt;br /&gt;The...</td>\n",
       "      <td>positive</td>\n",
       "    </tr>\n",
       "    <tr>\n",
       "      <th>2</th>\n",
       "      <td>I thought this was a wonderful way to spend ti...</td>\n",
       "      <td>positive</td>\n",
       "    </tr>\n",
       "    <tr>\n",
       "      <th>3</th>\n",
       "      <td>Basically there's a family where a little boy ...</td>\n",
       "      <td>negative</td>\n",
       "    </tr>\n",
       "    <tr>\n",
       "      <th>4</th>\n",
       "      <td>Petter Mattei's \"Love in the Time of Money\" is...</td>\n",
       "      <td>positive</td>\n",
       "    </tr>\n",
       "    <tr>\n",
       "      <th>...</th>\n",
       "      <td>...</td>\n",
       "      <td>...</td>\n",
       "    </tr>\n",
       "    <tr>\n",
       "      <th>49995</th>\n",
       "      <td>I thought this movie did a down right good job...</td>\n",
       "      <td>positive</td>\n",
       "    </tr>\n",
       "    <tr>\n",
       "      <th>49996</th>\n",
       "      <td>Bad plot, bad dialogue, bad acting, idiotic di...</td>\n",
       "      <td>negative</td>\n",
       "    </tr>\n",
       "    <tr>\n",
       "      <th>49997</th>\n",
       "      <td>I am a Catholic taught in parochial elementary...</td>\n",
       "      <td>negative</td>\n",
       "    </tr>\n",
       "    <tr>\n",
       "      <th>49998</th>\n",
       "      <td>I'm going to have to disagree with the previou...</td>\n",
       "      <td>negative</td>\n",
       "    </tr>\n",
       "    <tr>\n",
       "      <th>49999</th>\n",
       "      <td>No one expects the Star Trek movies to be high...</td>\n",
       "      <td>negative</td>\n",
       "    </tr>\n",
       "  </tbody>\n",
       "</table>\n",
       "<p>50000 rows × 2 columns</p>\n",
       "</div>"
      ],
      "text/plain": [
       "                                                  review sentiment\n",
       "0      One of the other reviewers has mentioned that ...  positive\n",
       "1      A wonderful little production. <br /><br />The...  positive\n",
       "2      I thought this was a wonderful way to spend ti...  positive\n",
       "3      Basically there's a family where a little boy ...  negative\n",
       "4      Petter Mattei's \"Love in the Time of Money\" is...  positive\n",
       "...                                                  ...       ...\n",
       "49995  I thought this movie did a down right good job...  positive\n",
       "49996  Bad plot, bad dialogue, bad acting, idiotic di...  negative\n",
       "49997  I am a Catholic taught in parochial elementary...  negative\n",
       "49998  I'm going to have to disagree with the previou...  negative\n",
       "49999  No one expects the Star Trek movies to be high...  negative\n",
       "\n",
       "[50000 rows x 2 columns]"
      ]
     },
     "execution_count": 4,
     "metadata": {},
     "output_type": "execute_result"
    }
   ],
   "source": [
    "full_dataset"
   ]
  },
  {
   "cell_type": "markdown",
   "id": "351fb80e",
   "metadata": {},
   "source": [
    "We can see that the dataset consists of 50000 samples, each of which contains the text of the review and the corresponding sentiment.\n",
    "Before proceeding with any data exploration, let us split our dataset into train, validation and test datasets."
   ]
  },
  {
   "cell_type": "code",
   "execution_count": 5,
   "id": "8e71f01e",
   "metadata": {},
   "outputs": [],
   "source": [
    "train_valid_dataset, test_dataset = train_test_split(full_dataset, test_size=0.1)\n",
    "train_dataset, valid_dataset = train_test_split(train_valid_dataset, test_size=1/9)"
   ]
  },
  {
   "cell_type": "markdown",
   "id": "f73d9b5d",
   "metadata": {},
   "source": [
    "Let us see what the exact numbers are for the distributions of train/validation/test datasets and positive/negative reviews in the training dataset is."
   ]
  },
  {
   "cell_type": "code",
   "execution_count": 6,
   "id": "5c20f224",
   "metadata": {},
   "outputs": [
    {
     "name": "stdout",
     "output_type": "stream",
     "text": [
      "The training dataset consists of 40000 samples\n",
      "The validation dataset consists of 5000 samples\n",
      "The test dataset consists of 5000 samples\n",
      "In the dataset there are 20030 positive reviews and 19970 negative reviews\n"
     ]
    }
   ],
   "source": [
    "print(\"The training dataset consists of {} samples\".format(len(train_dataset)))\n",
    "print(\"The validation dataset consists of {} samples\".format(len(valid_dataset)))\n",
    "print(\"The test dataset consists of {} samples\".format(len(test_dataset)))\n",
    "\n",
    "positive_num = len(train_dataset[train_dataset['sentiment'] == 'positive'])\n",
    "negative_num = len(train_dataset) - positive_num\n",
    "print(\"In the dataset there are {} positive reviews and {} negative reviews\".format(positive_num, negative_num))"
   ]
  },
  {
   "cell_type": "markdown",
   "id": "f8c421d9",
   "metadata": {},
   "source": [
    "We see it is very balanced! Great!\n",
    "\n",
    "In order to get a feel for the format of the reviews, let us write out a few examples."
   ]
  },
  {
   "cell_type": "code",
   "execution_count": 7,
   "id": "9298052d",
   "metadata": {},
   "outputs": [
    {
     "name": "stdout",
     "output_type": "stream",
     "text": [
      "Example #1 (positive): If you ever see a stand up comedy movie this is the one. You will laugh nonstop if you have any sense of humor at all. This is a once in a lifetime performance from a once in a lifetime performer. This is a stand up standard.\n",
      "\n",
      "Example #2 (positive): I saw this movie when I was in Israel for the summer. my Hebrew is not fluent, so the subtitles were very useful, I didn't feel lost at any point in the movie. You tend to get used to subtitles after about 5 minutes.<br /><br />This movie blew me away!!!!!! It depicts two of the most prominent taboos in the middle east today: A homosexual relationship between an Israeli and a Palestinian. It allows a person to enter both realms of the conflict simultaneously. The dilemma, the emotions entailed. The movie climaxes in tragedy when anger and rage drive one of the lovers to one extremist side! an absolute must see!!\n",
      "\n",
      "Example #3 (positive): BONJOUR, MONSIEUR SHLOMI is simply a wonderful film! Writer/Director Shemi Zarhin has created a story unlike any other and cast it with such consistently fine actors that it remains a puzzle to me that this film has not become an audience favorite throughout the world. It is intelligent, emotional, edifying, and warm, entertaining, and in all categories it is a winner.Shlomi (Oshri Cohen, in a brilliantly understated performance) is a 16-year-old lad who takes care of his highly dysfunctional family: his mother (Esti Zakheim) is about as distasteful a shrew as ever concocted and in a constant state of ill temper because of her husband cheated on her, and because she is stuck working double shifts to support her ailing father-in-law (Ariek Elias, who as Shlomi's grandfather is a bright, funny, wise, loving old man who deeply cares for Shlomi); a married sister Ziva (Rotem Abuhab)who periodically moves back in to the house because of constant spats with her husband who doesn't help her care for their infant twin sons; his brother Sasi (Assi Cohen) whose life is loud electric guitars, braggadocio about female conquests, and the favorite son of his mother. Stir this mixture and the result is the penultimate dysfunctional family unit. Shlomi cooks gourmet meals for them, shops, cleans house, runs errands, bathes and cares for this grandfather and in general leads a life of submission to a family that views him as a 'retard'.Shlomi longs for a girlfriend and practically fails his school because of his lack of time devoted to caring for his family and a lack of concentration. Serendipitously his math teacher Begin (Nisso Keavia) notes his natural mathematic genius on a discarded test, and with the aid of the headmaster (Yigal Nair) the two encourage him to be tested and discover that he is a genius (?with dyslexia?) and arrange for him to try for a special school in Haifa. Shlomi's mother will hear none of it but between fights with Shlomi's absentee father (Albert Iluz) and confrontations with the teacher and headmaster they finally consent to his testing for the school.Meanwhile Shlomi discovers a girl his age Rona (Aya Koren) who has moved in next door and gradually the two become intertwined in a physical and intellectual relationship. Always in the background is the support of Shlomi's grandfather, and when the grandfather dies, Shlomi sets off on the journey to live his life for himself, to realize his gifts, to find his happiness. The manner in which the family comes to grips with this is the peak of the movie and need not be revealed for the sake of loosing the power of the message.The film is beautifully photographed, the musical score is creatively lovely, and the final result is one of exaltation of the human spirit. Highly recommended on every level. In Hebrew with English subtitles.\n",
      "\n"
     ]
    }
   ],
   "source": [
    "for i in range(3):\n",
    "    print(\"Example #{} ({}): {}\\n\".format(i+1, train_dataset.iloc[i][\"sentiment\"], train_dataset.iloc[i][\"review\"]))"
   ]
  },
  {
   "cell_type": "markdown",
   "id": "f506b037",
   "metadata": {},
   "source": [
    "We based our string preprocessing function on these examples. For example, we can see that there are some HTML tags in the revies, so we remove them during preprocessing. Let's check an example:"
   ]
  },
  {
   "cell_type": "code",
   "execution_count": 8,
   "id": "71b93c42",
   "metadata": {},
   "outputs": [
    {
     "data": {
      "text/plain": [
       "'if you ever see a stand up comedy movie this is the one you will laugh nonstop if you have any sense of humor at all this is a once in a lifetime performance from a once in a lifetime performer this is a stand up standard'"
      ]
     },
     "execution_count": 8,
     "metadata": {},
     "output_type": "execute_result"
    }
   ],
   "source": [
    "preprocess_string(train_dataset.iloc[0][\"review\"])"
   ]
  },
  {
   "cell_type": "markdown",
   "id": "3f212843",
   "metadata": {},
   "source": [
    "Now, let's apply the preprocessing and tokenization, as well as initialize our vocabulary."
   ]
  },
  {
   "cell_type": "code",
   "execution_count": 9,
   "id": "306881a5",
   "metadata": {},
   "outputs": [],
   "source": [
    "def preprocess_dataset(dataset, vocabulary, add_tokens_to_vocabulary_proportion=0):\n",
    "    # We include a parameter to control for what proportion of the samples e should add unknown tokens to the vocabulary\n",
    "    if add_tokens_to_vocabulary_proportion == 0:\n",
    "        dataset[\"token_ids\"] = dataset[\"review\"].apply(lambda x: get_token_indices(tokenize(preprocess_string(x)), vocabulary, add_if_unknown=False))\n",
    "    else:\n",
    "        first_dataset, second_dataset = train_test_split(dataset, test_size=1-add_tokens_to_vocabulary_proportion)\n",
    "        first_dataset[\"token_ids\"] = first_dataset[\"review\"].apply(lambda x: get_token_indices(tokenize(preprocess_string(x)), vocabulary, add_if_unknown=True))\n",
    "        second_dataset[\"token_ids\"] = second_dataset[\"review\"].apply(lambda x: get_token_indices(tokenize(preprocess_string(x)), vocabulary, add_if_unknown=False))\n",
    "        dataset = pd.concat([first_dataset, second_dataset])\n",
    "        \n",
    "    dataset[\"sentiment\"] = dataset[\"sentiment\"].apply(lambda x: 1 if x == \"positive\" else 0)\n",
    "    dataset = dataset.drop(\"review\", axis=1)\n",
    "    return dataset"
   ]
  },
  {
   "cell_type": "code",
   "execution_count": 10,
   "id": "f41af8aa",
   "metadata": {},
   "outputs": [
    {
     "name": "stdout",
     "output_type": "stream",
     "text": [
      "The vocabulary consists of 88668 words\n"
     ]
    }
   ],
   "source": [
    "vocabulary = {\"[UNKNOWN]\": 0, \"[PAD]\": 1}\n",
    "\n",
    "# We will add tokens to the vocabulary for the first 90% of the training set. This way, we will train with some unknown tokens.\n",
    "train_dataset = preprocess_dataset(train_dataset, vocabulary, add_tokens_to_vocabulary_proportion=0.90) \n",
    "valid_dataset = preprocess_dataset(valid_dataset, vocabulary)\n",
    "test_dataset = preprocess_dataset(test_dataset, vocabulary)\n",
    "\n",
    "print(\"The vocabulary consists of {} words\".format(len(vocabulary)))"
   ]
  },
  {
   "cell_type": "markdown",
   "id": "f0706fd1",
   "metadata": {},
   "source": [
    "Finally, we will load the data into a format that `pytorch` can work with and organize it into batches."
   ]
  },
  {
   "cell_type": "code",
   "execution_count": 11,
   "id": "7a1f737e",
   "metadata": {},
   "outputs": [],
   "source": [
    "def dataframe_to_python(dataframe):\n",
    "    sequences = list(dataframe[\"token_ids\"])\n",
    "    sentiments = list(dataframe[\"sentiment\"])\n",
    "    return list(zip(sequences, sentiments))"
   ]
  },
  {
   "cell_type": "code",
   "execution_count": 12,
   "id": "d828041b",
   "metadata": {},
   "outputs": [
    {
     "name": "stdout",
     "output_type": "stream",
     "text": [
      "The training dataset consists of 625 batches\n"
     ]
    }
   ],
   "source": [
    "BATCH_SIZE = 64\n",
    "\n",
    "def collate(batch):\n",
    "    tokens = [x[0] for x in batch]\n",
    "    tokens = nn.utils.rnn.pad_sequence([torch.tensor(token, dtype=torch.int64) for token in tokens], padding_value=vocabulary[\"[PAD]\"], batch_first=True)\n",
    "    lengths = [len(x[0]) for x in batch]\n",
    "    lengths = torch.tensor(lengths, dtype=torch.int64)\n",
    "    labels = [[x[1]] for x in batch]\n",
    "    labels = torch.tensor(labels, dtype=torch.float)\n",
    "    return (tokens, lengths, labels)\n",
    "\n",
    "train_dataloader = torch.utils.data.DataLoader(dataframe_to_python(train_dataset), batch_size=BATCH_SIZE, shuffle=True, collate_fn=collate)\n",
    "valid_dataloader = torch.utils.data.DataLoader(dataframe_to_python(valid_dataset), batch_size=BATCH_SIZE, shuffle=True, collate_fn=collate)\n",
    "test_dataloader = torch.utils.data.DataLoader(dataframe_to_python(test_dataset), batch_size=BATCH_SIZE, shuffle=True, collate_fn=collate)\n",
    "\n",
    "print(\"The training dataset consists of {} batches\".format(len(train_dataloader)))"
   ]
  },
  {
   "cell_type": "markdown",
   "id": "a585f784",
   "metadata": {},
   "source": [
    "# Building the model\n",
    "\n",
    "The model I have chosen to use consists of the following layers:\n",
    "- A word embedding layer (with the embedding space having dimension 16)\n",
    "- 3 layers of LSTMs (with 16 hidden units), followed by dropout (with rate 0.2)\n",
    "- A densely connected layer"
   ]
  },
  {
   "cell_type": "markdown",
   "id": "ca178067",
   "metadata": {},
   "source": [
    "First, let us set some of the hyperparameters of our model."
   ]
  },
  {
   "cell_type": "code",
   "execution_count": 13,
   "id": "f458ab54",
   "metadata": {},
   "outputs": [],
   "source": [
    "LSTM_LAYERS = 3\n",
    "EMBEDDING_DIM = 20\n",
    "HIDDEN_DIM = 32\n",
    "BIDIRECTIONAL = False\n",
    "DROPOUT_RATE = 0.25\n",
    "\n",
    "MAX_EPOCHS = 25\n",
    "LEARNING_RATE = 0.0005\n",
    "EARLY_STOPPING = 3"
   ]
  },
  {
   "cell_type": "markdown",
   "id": "714d0719",
   "metadata": {},
   "source": [
    "Next, we define the model."
   ]
  },
  {
   "cell_type": "code",
   "execution_count": 14,
   "id": "98f2257c",
   "metadata": {},
   "outputs": [],
   "source": [
    "class Model(nn.Module):\n",
    "    def __init__(self, vocabulary_size, embedding_dimension, hidden_state_dimension, lstm_layers, bidirectional, dropout_rate):\n",
    "        super().__init__()\n",
    "        self.embedding = nn.Embedding(vocabulary_size, embedding_dimension)\n",
    "        self.lstm = nn.LSTM(embedding_dimension, hidden_state_dimension, lstm_layers, bidirectional=bidirectional,\n",
    "                            dropout=dropout_rate, batch_first=True)\n",
    "        self.dropout = nn.Dropout(dropout_rate)\n",
    "        self.dense = nn.Linear(hidden_state_dimension*2 if bidirectional else hidden_state_dimension, 1)\n",
    "        \n",
    "    def forward(self, sequence, length):\n",
    "        embedded_sequence = torch.nn.utils.rnn.pack_padded_sequence(self.embedding(sequence), length, batch_first=True, enforce_sorted=False)\n",
    "        _, (hidden, _) = self.lstm(embedded_sequence)\n",
    "        lstm_result = torch.cat([hidden[-1], hidden[-2]], dim=-1) if self.lstm.bidirectional else hidden[-1]\n",
    "        lstm_result = self.dropout(lstm_result)\n",
    "        result = self.dense(lstm_result)\n",
    "        return torch.sigmoid(result)"
   ]
  },
  {
   "cell_type": "code",
   "execution_count": 15,
   "id": "cda2d3e0",
   "metadata": {},
   "outputs": [],
   "source": [
    "# We will use the GPU if it is available\n",
    "device = torch.device('cuda' if torch.cuda.is_available() else 'cpu')\n",
    "\n",
    "# Define the model\n",
    "model = Model(len(vocabulary), EMBEDDING_DIM, HIDDEN_DIM, LSTM_LAYERS, BIDIRECTIONAL, DROPOUT_RATE)\n",
    "model.to(device)\n",
    "\n",
    "# Define the loss function and optimizer (and a function to compute accuracy)\n",
    "loss_fn = nn.BCELoss()\n",
    "optimizer = torch.optim.Adam(model.parameters(), lr=LEARNING_RATE)\n",
    "\n",
    "def accuracy_fn(predicted, label):\n",
    "    correct = (np.abs(predicted - label) < 0.5)\n",
    "    return correct.sum() / predicted.shape[0]"
   ]
  },
  {
   "cell_type": "markdown",
   "id": "496d090a",
   "metadata": {},
   "source": [
    "We can now start the training. We will use early stopping in the validation set to determine when to stop the training."
   ]
  },
  {
   "cell_type": "code",
   "execution_count": 16,
   "id": "66bc849e",
   "metadata": {},
   "outputs": [
    {
     "name": "stdout",
     "output_type": "stream",
     "text": [
      "[1,   625]  loss: 0.660 accuracy: 0.593  valid_loss: 0.597 valid_accuracy: 0.682\n",
      "[2,   625]  loss: 0.569 accuracy: 0.708  valid_loss: 0.532 valid_accuracy: 0.732\n",
      "[3,   625]  loss: 0.519 accuracy: 0.749  valid_loss: 0.514 valid_accuracy: 0.743\n",
      "[4,   625]  loss: 0.481 accuracy: 0.780  valid_loss: 0.454 valid_accuracy: 0.789\n",
      "[5,   625]  loss: 0.431 accuracy: 0.810  valid_loss: 0.501 valid_accuracy: 0.773\n",
      "[6,   625]  loss: 0.394 accuracy: 0.829  valid_loss: 0.402 valid_accuracy: 0.818\n",
      "[7,   625]  loss: 0.362 accuracy: 0.849  valid_loss: 0.370 valid_accuracy: 0.839\n",
      "[8,   625]  loss: 0.335 accuracy: 0.862  valid_loss: 0.693 valid_accuracy: 0.791\n",
      "[9,   625]  loss: 0.318 accuracy: 0.873  valid_loss: 0.363 valid_accuracy: 0.854\n",
      "[10,   625]  loss: 0.296 accuracy: 0.883  valid_loss: 0.340 valid_accuracy: 0.855\n",
      "[11,   625]  loss: 0.283 accuracy: 0.888  valid_loss: 0.331 valid_accuracy: 0.860\n",
      "[12,   625]  loss: 0.266 accuracy: 0.899  valid_loss: 0.319 valid_accuracy: 0.865\n",
      "[13,   625]  loss: 0.255 accuracy: 0.901  valid_loss: 0.333 valid_accuracy: 0.862\n",
      "[14,   625]  loss: 0.292 accuracy: 0.887  valid_loss: 0.316 valid_accuracy: 0.870\n",
      "[15,   625]  loss: 0.222 accuracy: 0.916  valid_loss: 0.325 valid_accuracy: 0.877\n",
      "[16,   625]  loss: 0.199 accuracy: 0.927  valid_loss: 0.315 valid_accuracy: 0.881\n",
      "[17,   625]  loss: 0.183 accuracy: 0.933  valid_loss: 0.295 valid_accuracy: 0.881\n",
      "[18,   625]  loss: 0.177 accuracy: 0.937  valid_loss: 0.329 valid_accuracy: 0.880\n",
      "[19,   625]  loss: 0.161 accuracy: 0.943  valid_loss: 0.305 valid_accuracy: 0.885\n",
      "[20,   625]  loss: 0.158 accuracy: 0.945  valid_loss: 0.321 valid_accuracy: 0.876\n",
      "[21,   625]  loss: 0.163 accuracy: 0.942  valid_loss: 0.297 valid_accuracy: 0.887\n",
      "[22,   625]  loss: 0.140 accuracy: 0.952  valid_loss: 0.339 valid_accuracy: 0.873\n",
      "[23,   625]  loss: 0.124 accuracy: 0.960  valid_loss: 0.344 valid_accuracy: 0.884\n",
      "[24,   625]  loss: 0.111 accuracy: 0.965  valid_loss: 0.324 valid_accuracy: 0.890\n",
      "[25,   625]  loss: 0.101 accuracy: 0.969  valid_loss: 0.353 valid_accuracy: 0.886\n"
     ]
    }
   ],
   "source": [
    "best_model = None\n",
    "best_accuracy = 0.0\n",
    "epochs_without_improvements = 0\n",
    "\n",
    "history = {\n",
    "    \"train_loss\": [],\n",
    "    \"train_accuracy\": [],\n",
    "    \"valid_loss\": [],\n",
    "    \"valid_accuracy\": [],\n",
    "}\n",
    "\n",
    "for epoch in range(MAX_EPOCHS):\n",
    "\n",
    "    # Train the model\n",
    "\n",
    "    model.train()\n",
    "\n",
    "    train_loss = 0.0\n",
    "    train_accuracy = 0.0\n",
    "    for i, data in enumerate(train_dataloader):\n",
    "        # Prepare the data\n",
    "        sequence, length, label = data\n",
    "        sequence = sequence.to(device)\n",
    "        label = label.to(device)\n",
    "\n",
    "        # Reset the gradients\n",
    "        optimizer.zero_grad()\n",
    "        \n",
    "        # Compute the predictions, the loss and the accuracy\n",
    "        prediction = model(sequence, length)\n",
    "        loss = loss_fn(prediction, label)\n",
    "\n",
    "        train_loss += loss.detach().cpu().numpy()\n",
    "        train_accuracy +=  accuracy_fn(prediction.detach().cpu().numpy(), label.cpu().numpy())\n",
    "\n",
    "        # Update the weights\n",
    "        loss.backward()\n",
    "        optimizer.step()\n",
    "\n",
    "        # Print the updated loss/accuracy\n",
    "        print(f'[{epoch + 1}, {i + 1:5d}] loss: {train_loss / (i+1):.3f} accuracy: {train_accuracy / (i+1):.3f}', end='\\r')\n",
    "\n",
    "    # Evaluate on the validation set\n",
    "    \n",
    "    model.eval()\n",
    "\n",
    "    valid_loss = 0.0\n",
    "    valid_accuracy = 0.0\n",
    "    for j, data in enumerate(valid_dataloader):\n",
    "        # Prepare the data\n",
    "        sequence, length, label = data\n",
    "        sequence = sequence.to(device)\n",
    "        label = label.to(device)\n",
    "        \n",
    "        # Compute the predictions and the loss\n",
    "        prediction = model(sequence, length)\n",
    "        loss = loss_fn(prediction, label)\n",
    "        \n",
    "        valid_loss += loss.detach().cpu().numpy()\n",
    "        valid_accuracy +=  accuracy_fn(prediction.detach().cpu().numpy(), label.cpu().numpy())\n",
    "\n",
    "        # Print the updated loss/accuracy\n",
    "        print(f'[{epoch + 1}, {i + 1:5d}]  loss: {train_loss / (i+1):.3f} accuracy: {train_accuracy / (i+1):.3f}  valid_loss: {valid_loss / (j+1):.3f} valid_accuracy: {valid_accuracy / (j+1):.3f}', end='\\r')\n",
    "\n",
    "    print(f'[{epoch + 1}, {i + 1:5d}]  loss: {train_loss / (i+1):.3f} accuracy: {train_accuracy / (i+1):.3f}  valid_loss: {valid_loss / (j+1):.3f} valid_accuracy: {valid_accuracy / (j+1):.3f}')\n",
    "\n",
    "    # Store the losses/accuracies\n",
    "\n",
    "    train_loss /= i + 1\n",
    "    train_accuracy /= i + 1\n",
    "    valid_loss /= j + 1\n",
    "    valid_accuracy /= j + 1\n",
    "\n",
    "    history[\"train_loss\"].append(train_loss)\n",
    "    history[\"train_accuracy\"].append(train_accuracy)\n",
    "    history[\"valid_loss\"].append(valid_loss)\n",
    "    history[\"valid_accuracy\"].append(valid_accuracy)\n",
    "\n",
    "    # Check whether we should stop because of early stopping\n",
    "\n",
    "    if valid_accuracy > best_accuracy:\n",
    "        best_model = model.state_dict()\n",
    "        best_accuracy = valid_accuracy\n",
    "        epochs_without_improvements = 0\n",
    "    else:\n",
    "        epochs_without_improvements += 1\n",
    "        if epochs_without_improvements >= EARLY_STOPPING:\n",
    "            model.load_state_dict(best_model)\n",
    "            print(\"Stopping due to early stopping\")\n",
    "            break\n",
    "    \n",
    "    "
   ]
  },
  {
   "cell_type": "markdown",
   "id": "1ca45216",
   "metadata": {},
   "source": [
    "# Results"
   ]
  },
  {
   "cell_type": "markdown",
   "id": "4a550e92",
   "metadata": {},
   "source": [
    "First, let us plot a graph of how the loss and accuracy have evolved over time."
   ]
  },
  {
   "cell_type": "code",
   "execution_count": 17,
   "id": "3e50ce78",
   "metadata": {},
   "outputs": [
    {
     "data": {
      "image/png": "[encoded data removed]",
      "text/plain": [
       "<Figure size 1000x600 with 1 Axes>"
      ]
     },
     "metadata": {},
     "output_type": "display_data"
    }
   ],
   "source": [
    "fig = plt.figure(figsize=(10,6))\n",
    "ax = fig.add_subplot(1,1,1)\n",
    "ax.plot(history[\"train_loss\"], label='train loss')\n",
    "ax.plot(history[\"valid_loss\"], label='validation loss')\n",
    "plt.legend()\n",
    "ax.set_xlabel('epochs')\n",
    "ax.set_ylabel('loss');"
   ]
  },
  {
   "cell_type": "code",
   "execution_count": 18,
   "id": "acdb6129",
   "metadata": {},
   "outputs": [
    {
     "data": {
      "image/png": "[encoded data removed]",
      "text/plain": [
       "<Figure size 1000x600 with 1 Axes>"
      ]
     },
     "metadata": {},
     "output_type": "display_data"
    }
   ],
   "source": [
    "fig = plt.figure(figsize=(10,6))\n",
    "ax = fig.add_subplot(1,1,1)\n",
    "ax.plot(history[\"train_accuracy\"], label='train accuracy')\n",
    "ax.plot(history[\"valid_accuracy\"], label='validation accuracy')\n",
    "plt.legend()\n",
    "ax.set_xlabel('epochs')\n",
    "ax.set_ylabel('accuracy');"
   ]
  },
  {
   "cell_type": "markdown",
   "id": "a83c76ea",
   "metadata": {},
   "source": [
    "Finally, let's evaluate our performance on the test set."
   ]
  },
  {
   "cell_type": "code",
   "execution_count": 19,
   "id": "cb6db478",
   "metadata": {},
   "outputs": [
    {
     "name": "stdout",
     "output_type": "stream",
     "text": [
      "Final test accuracy: 0.891\n"
     ]
    }
   ],
   "source": [
    "model.eval()\n",
    "\n",
    "test_accuracy = 0.0\n",
    "for j, data in enumerate(test_dataloader):\n",
    "    # Prepare the data\n",
    "    sequence, length, label = data\n",
    "    sequence = sequence.to(device)\n",
    "\n",
    "    # Compute the prediction and its accuracy\n",
    "    prediction = model(sequence, length)\n",
    "\n",
    "    accuracy = accuracy_fn(prediction.detach().cpu().numpy(), label.numpy())\n",
    "    test_accuracy += accuracy\n",
    "\n",
    "    # Print the results\n",
    "    print(f'Final test accuracy: {test_accuracy / (j+1):.3f}', end='\\r')\n",
    "\n",
    "# Print the final result\n",
    "print(f'Final test accuracy: {test_accuracy / (j+1):.3f}')"
   ]
  },
  {
   "cell_type": "markdown",
   "id": "56776070",
   "metadata": {},
   "source": [
    "In the end, we got a 89.1% accuracy on the test set. That's not bad considering our model is relatively simple.\n",
    "It is likely that the true accuracy is lower and we got a bit lucky with the test set, as the accuracy on the validation set is 0.7% lower."
   ]
  },
  {
   "attachments": {},
   "cell_type": "markdown",
   "id": "a6883884",
   "metadata": {},
   "source": [
    "# Further improvements\n",
    "\n",
    "There are a few things I would have liked to implement and that could improve the model's performance, such as:\n",
    "- Using automatic hyperparameter tuning and cross-validation.\n",
    "- Implementing learning rate decay for faster training (and hence faster iterating).\n",
    "- Analyzing the mistakes that the model makes on the validation set to see what can be improved.\n",
    "- Increasing regularization, as there was a significant gap between training and validation accuracies.\n",
    "- Using a pretrained word embedding instead of training one from scratch."
   ]
  }
 ],
 "metadata": {
  "kernelspec": {
   "display_name": "Python 3.10.5 64-bit",
   "language": "python",
   "name": "python3"
  },
  "language_info": {
   "codemirror_mode": {
    "name": "ipython",
    "version": 3
   },
   "file_extension": ".py",
   "mimetype": "text/x-python",
   "name": "python",
   "nbconvert_exporter": "python",
   "pygments_lexer": "ipython3",
   "version": "3.10.5 (tags/v3.10.5:f377153, Jun  6 2022, 16:14:13) [MSC v.1929 64 bit (AMD64)]"
  },
  "vscode": {
   "interpreter": {
    "hash": "26de051ba29f2982a8de78e945f0abaf191376122a1563185a90213a26c5da77"
   }
  }
 },
 "nbformat": 4,
 "nbformat_minor": 5
}
